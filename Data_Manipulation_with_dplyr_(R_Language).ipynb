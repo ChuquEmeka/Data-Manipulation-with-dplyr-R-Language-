{
  "cells": [
    {
      "cell_type": "markdown",
      "metadata": {
        "id": "view-in-github",
        "colab_type": "text"
      },
      "source": [
        "<a href=\"https://colab.research.google.com/github/ChuquEmeka/Data-Manipulation-with-dplyr-R-Language-/blob/main/Data_Manipulation_with_dplyr_(R_Language).ipynb\" target=\"_parent\"><img src=\"https://colab.research.google.com/assets/colab-badge.svg\" alt=\"Open In Colab\"/></a>"
      ]
    },
    {
      "cell_type": "markdown",
      "id": "395b3e42",
      "metadata": {
        "id": "395b3e42"
      },
      "source": [
        "## Data Manipulation with dplyr(R Language):   \n",
        " \n",
        "  \n",
        "#### Name: Edeh Emeka N.\n"
      ]
    },
    {
      "cell_type": "markdown",
      "id": "cc33f542",
      "metadata": {
        "id": "cc33f542"
      },
      "source": [
        "##### The underlisted five major functions are performed using the dplyr package which is a grammar of data manipulation \n",
        "\n",
        "mutate() adds new variables that are functions of existing variables  \n",
        "select() picks variables based on their names.  \n",
        "filter() picks cases based on their values.  \n",
        "summarise() reduces multiple values down to a single summary.  \n",
        "arrange() changes the ordering of the rows.  \n",
        "\n",
        "The above functions are a bit similar to queries in sql. "
      ]
    },
    {
      "cell_type": "code",
      "execution_count": null,
      "id": "46eb3944",
      "metadata": {
        "id": "46eb3944"
      },
      "outputs": [],
      "source": [
        ""
      ]
    },
    {
      "cell_type": "markdown",
      "id": "63eb4e5b",
      "metadata": {
        "id": "63eb4e5b"
      },
      "source": [
        "#### About the dataset  \n",
        "The dataset being used for this post is a snippet of a larger dataset of real estate values in Lagos, Nigeria. These are real-life values of properties valued by me, Edeh Emeka. The actual property address and client names have been removed for privacy purpose. "
      ]
    },
    {
      "cell_type": "code",
      "execution_count": null,
      "id": "3a642075",
      "metadata": {
        "id": "3a642075",
        "outputId": "1e545ab5-4c19-48e3-99a1-db5b6b09ce36"
      },
      "outputs": [
        {
          "name": "stderr",
          "output_type": "stream",
          "text": [
            "Registered S3 methods overwritten by 'ggplot2':\n",
            "  method         from \n",
            "  [.quosures     rlang\n",
            "  c.quosures     rlang\n",
            "  print.quosures rlang\n",
            "Registered S3 method overwritten by 'rvest':\n",
            "  method            from\n",
            "  read_xml.response xml2\n",
            "-- Attaching packages --------------------------------------- tidyverse 1.2.1 --\n",
            "v ggplot2 3.1.1       v purrr   0.3.2  \n",
            "v tibble  2.1.1       v dplyr   0.8.0.1\n",
            "v tidyr   0.8.3       v stringr 1.4.0  \n",
            "v readr   1.3.1       v forcats 0.4.0  \n",
            "-- Conflicts ------------------------------------------ tidyverse_conflicts() --\n",
            "x dplyr::filter() masks stats::filter()\n",
            "x dplyr::lag()    masks stats::lag()\n"
          ]
        }
      ],
      "source": [
        "# i will start by loading tidyverse package which contains tidyr and dplyr packages. I already installed it.\n",
        "\n",
        "library(tidyverse)"
      ]
    },
    {
      "cell_type": "code",
      "execution_count": null,
      "id": "eb52d1f7",
      "metadata": {
        "id": "eb52d1f7",
        "outputId": "885609f1-82fc-46fd-b21f-8a5bc702ba1d"
      },
      "outputs": [
        {
          "name": "stderr",
          "output_type": "stream",
          "text": [
            "Parsed with column specification:\n",
            "cols(\n",
            "  Year_Of_Valuation = col_double(),\n",
            "  Property_Type = col_character(),\n",
            "  State = col_character(),\n",
            "  Location = col_character(),\n",
            "  Location_Rating = col_double(),\n",
            "  Land_Size_sqm = col_number(),\n",
            "  Open_Market_Value = col_number(),\n",
            "  Forced_Sale_Value = col_number(),\n",
            "  Insurance_Value = col_number()\n",
            ")\n"
          ]
        }
      ],
      "source": [
        "# importing the dataset which is saved in my working directory\n",
        "df <- read_csv(\"Real_Estate_Values_In_Lagos_Cleaning.csv\")\n"
      ]
    },
    {
      "cell_type": "code",
      "execution_count": null,
      "id": "4b2c592a",
      "metadata": {
        "id": "4b2c592a",
        "outputId": "ef4e1924-1a58-41b7-b3f7-23b626d3b9be"
      },
      "outputs": [
        {
          "name": "stdout",
          "output_type": "stream",
          "text": [
            "Observations: 27\n",
            "Variables: 9\n",
            "$ Year_Of_Valuation <dbl> 2012, 2013, 2013, 2013, 2013, 2013, NA, 2013, 201...\n",
            "$ Property_Type     <chr> \"Land\", \"Office Complex\", \"Apartment Block\", \"Det...\n",
            "$ State             <chr> \"Lagos\", \"Lagos\", \"Lagos\", \"Lagos\", \"Lagos\", \"Lag...\n",
            "$ Location          <chr> \"Ikeja_1\", \"Victoria Island\", \"Ikoyi\", \"Okota\", \"...\n",
            "$ Location_Rating   <dbl> 8.0, 9.0, 10.0, 3.0, NA, 5.0, 3.0, 8.5, 5.0, 3.0,...\n",
            "$ Land_Size_sqm     <dbl> 615.040, 4327.710, 5500.000, 1500.000, 183.280, N...\n",
            "$ Open_Market_Value <dbl> 1.00e+08, 2.97e+09, 4.00e+09, 7.00e+07, 1.00e+07,...\n",
            "$ Forced_Sale_Value <dbl> 4.600e+07, 2.079e+09, 2.800e+09, 4.900e+07, 7.000...\n",
            "$ Insurance_Value   <dbl> 1.5e+06, 1.6e+09, 2.1e+09, 5.0e+07, 5.0e+06, 7.0e...\n"
          ]
        }
      ],
      "source": [
        "# using glimpse function to look at the variable names and types.\n",
        "glimpse(df)"
      ]
    },
    {
      "cell_type": "markdown",
      "id": "e37220c3",
      "metadata": {
        "id": "e37220c3"
      },
      "source": [
        "##### From the above glimpse, we have 9 columns(Variables) and 27 rows(Obaservations)"
      ]
    },
    {
      "cell_type": "code",
      "execution_count": null,
      "id": "ce947bb5",
      "metadata": {
        "id": "ce947bb5"
      },
      "outputs": [],
      "source": [
        ""
      ]
    },
    {
      "cell_type": "markdown",
      "id": "c07081ec",
      "metadata": {
        "id": "c07081ec"
      },
      "source": [
        "### 1.  Adding needed new variables(columns) that are functions of existing variables using mutate()"
      ]
    },
    {
      "cell_type": "markdown",
      "id": "b9d7cc65",
      "metadata": {
        "id": "b9d7cc65"
      },
      "source": [
        "For this project, i will be adding columns for land value, land value per squre meter and land values in dollars."
      ]
    },
    {
      "cell_type": "code",
      "execution_count": null,
      "id": "1aecbc42",
      "metadata": {
        "id": "1aecbc42"
      },
      "outputs": [],
      "source": [
        "df_with_more_cols <- df  %>% \n",
        "    mutate(land_value = Open_Market_Value - Forced_Sale_Value, Land_Value_PerSQM = land_value / Land_Size_sqm,\n",
        "          land_values_in_dollars = land_value/159.267)"
      ]
    },
    {
      "cell_type": "markdown",
      "id": "d2207d38",
      "metadata": {
        "id": "d2207d38"
      },
      "source": [
        "%>%  is know as the pipe operator which is a useful operator that comes from the magrittr package(one of the tidyverse packages). It allows us to organize our code by eliminating nested parentheses so that we can make our code more readable."
      ]
    },
    {
      "cell_type": "code",
      "execution_count": null,
      "id": "f702b7e5",
      "metadata": {
        "id": "f702b7e5",
        "outputId": "5a6789b9-4788-42ee-a963-76a1785bc2af"
      },
      "outputs": [
        {
          "data": {
            "text/html": [
              "<table>\n",
              "<thead><tr><th scope=col>Year_Of_Valuation</th><th scope=col>Property_Type</th><th scope=col>State</th><th scope=col>Location</th><th scope=col>Location_Rating</th><th scope=col>Land_Size_sqm</th><th scope=col>Open_Market_Value</th><th scope=col>Forced_Sale_Value</th><th scope=col>Insurance_Value</th><th scope=col>land_value</th><th scope=col>Land_Value_PerSQM</th><th scope=col>land_values_in_dollars</th></tr></thead>\n",
              "<tbody>\n",
              "\t<tr><td>2012           </td><td>Land           </td><td>Lagos          </td><td>Ikeja_1        </td><td> 8             </td><td> 615.04        </td><td>1.00e+08       </td><td>4.600e+07      </td><td>1.5e+06        </td><td>5.40e+07       </td><td> 87799.17      </td><td> 339053.29     </td></tr>\n",
              "\t<tr><td>2013           </td><td>Office Complex </td><td>Lagos          </td><td>Victoria Island</td><td> 9             </td><td>4327.71        </td><td>2.97e+09       </td><td>2.079e+09      </td><td>1.6e+09        </td><td>8.91e+08       </td><td>205882.56      </td><td>5594379.25     </td></tr>\n",
              "\t<tr><td>2013           </td><td>Apartment Block</td><td>Lagos          </td><td>Ikoyi          </td><td>10             </td><td>5500.00        </td><td>4.00e+09       </td><td>2.800e+09      </td><td>2.1e+09        </td><td>1.20e+09       </td><td>218181.82      </td><td>7534517.51     </td></tr>\n",
              "\t<tr><td>2013           </td><td>Detached House </td><td>Lagos          </td><td>Okota          </td><td> 3             </td><td>1500.00        </td><td>7.00e+07       </td><td>4.900e+07      </td><td>5.0e+07        </td><td>2.10e+07       </td><td> 14000.00      </td><td> 131854.06     </td></tr>\n",
              "\t<tr><td>2013           </td><td>Tenement House </td><td>Lagos          </td><td>Amukoko        </td><td>NA             </td><td> 183.28        </td><td>1.00e+07       </td><td>7.000e+06      </td><td>5.0e+06        </td><td>3.00e+06       </td><td> 16368.40      </td><td>  18836.29     </td></tr>\n",
              "\t<tr><td>2013           </td><td>Flat           </td><td>Lagos          </td><td>Surulere       </td><td> 5             </td><td>     NA        </td><td>1.40e+07       </td><td>1.000e+07      </td><td>7.0e+06        </td><td>4.00e+06       </td><td>       NA      </td><td>  25115.06     </td></tr>\n",
              "</tbody>\n",
              "</table>\n"
            ],
            "text/latex": [
              "\\begin{tabular}{r|llllllllllll}\n",
              " Year\\_Of\\_Valuation & Property\\_Type & State & Location & Location\\_Rating & Land\\_Size\\_sqm & Open\\_Market\\_Value & Forced\\_Sale\\_Value & Insurance\\_Value & land\\_value & Land\\_Value\\_PerSQM & land\\_values\\_in\\_dollars\\\\\n",
              "\\hline\n",
              "\t 2012              & Land              & Lagos             & Ikeja\\_1         &  8                &  615.04           & 1.00e+08          & 4.600e+07         & 1.5e+06           & 5.40e+07          &  87799.17         &  339053.29       \\\\\n",
              "\t 2013            & Office Complex  & Lagos           & Victoria Island &  9              & 4327.71         & 2.97e+09        & 2.079e+09       & 1.6e+09         & 8.91e+08        & 205882.56       & 5594379.25     \\\\\n",
              "\t 2013            & Apartment Block & Lagos           & Ikoyi           & 10              & 5500.00         & 4.00e+09        & 2.800e+09       & 2.1e+09         & 1.20e+09        & 218181.82       & 7534517.51     \\\\\n",
              "\t 2013            & Detached House  & Lagos           & Okota           &  3              & 1500.00         & 7.00e+07        & 4.900e+07       & 5.0e+07         & 2.10e+07        &  14000.00       &  131854.06     \\\\\n",
              "\t 2013            & Tenement House  & Lagos           & Amukoko         & NA              &  183.28         & 1.00e+07        & 7.000e+06       & 5.0e+06         & 3.00e+06        &  16368.40       &   18836.29     \\\\\n",
              "\t 2013            & Flat            & Lagos           & Surulere        &  5              &      NA         & 1.40e+07        & 1.000e+07       & 7.0e+06         & 4.00e+06        &        NA       &   25115.06     \\\\\n",
              "\\end{tabular}\n"
            ],
            "text/markdown": [
              "\n",
              "| Year_Of_Valuation | Property_Type | State | Location | Location_Rating | Land_Size_sqm | Open_Market_Value | Forced_Sale_Value | Insurance_Value | land_value | Land_Value_PerSQM | land_values_in_dollars |\n",
              "|---|---|---|---|---|---|---|---|---|---|---|---|\n",
              "| 2012            | Land            | Lagos           | Ikeja_1         |  8              |  615.04         | 1.00e+08        | 4.600e+07       | 1.5e+06         | 5.40e+07        |  87799.17       |  339053.29      |\n",
              "| 2013            | Office Complex  | Lagos           | Victoria Island |  9              | 4327.71         | 2.97e+09        | 2.079e+09       | 1.6e+09         | 8.91e+08        | 205882.56       | 5594379.25      |\n",
              "| 2013            | Apartment Block | Lagos           | Ikoyi           | 10              | 5500.00         | 4.00e+09        | 2.800e+09       | 2.1e+09         | 1.20e+09        | 218181.82       | 7534517.51      |\n",
              "| 2013            | Detached House  | Lagos           | Okota           |  3              | 1500.00         | 7.00e+07        | 4.900e+07       | 5.0e+07         | 2.10e+07        |  14000.00       |  131854.06      |\n",
              "| 2013            | Tenement House  | Lagos           | Amukoko         | NA              |  183.28         | 1.00e+07        | 7.000e+06       | 5.0e+06         | 3.00e+06        |  16368.40       |   18836.29      |\n",
              "| 2013            | Flat            | Lagos           | Surulere        |  5              |      NA         | 1.40e+07        | 1.000e+07       | 7.0e+06         | 4.00e+06        |        NA       |   25115.06      |\n",
              "\n"
            ],
            "text/plain": [
              "  Year_Of_Valuation Property_Type   State Location        Location_Rating\n",
              "1 2012              Land            Lagos Ikeja_1          8             \n",
              "2 2013              Office Complex  Lagos Victoria Island  9             \n",
              "3 2013              Apartment Block Lagos Ikoyi           10             \n",
              "4 2013              Detached House  Lagos Okota            3             \n",
              "5 2013              Tenement House  Lagos Amukoko         NA             \n",
              "6 2013              Flat            Lagos Surulere         5             \n",
              "  Land_Size_sqm Open_Market_Value Forced_Sale_Value Insurance_Value land_value\n",
              "1  615.04       1.00e+08          4.600e+07         1.5e+06         5.40e+07  \n",
              "2 4327.71       2.97e+09          2.079e+09         1.6e+09         8.91e+08  \n",
              "3 5500.00       4.00e+09          2.800e+09         2.1e+09         1.20e+09  \n",
              "4 1500.00       7.00e+07          4.900e+07         5.0e+07         2.10e+07  \n",
              "5  183.28       1.00e+07          7.000e+06         5.0e+06         3.00e+06  \n",
              "6      NA       1.40e+07          1.000e+07         7.0e+06         4.00e+06  \n",
              "  Land_Value_PerSQM land_values_in_dollars\n",
              "1  87799.17          339053.29            \n",
              "2 205882.56         5594379.25            \n",
              "3 218181.82         7534517.51            \n",
              "4  14000.00          131854.06            \n",
              "5  16368.40           18836.29            \n",
              "6        NA           25115.06            "
            ]
          },
          "metadata": {},
          "output_type": "display_data"
        }
      ],
      "source": [
        "head(df_with_more_cols)"
      ]
    },
    {
      "cell_type": "code",
      "execution_count": null,
      "id": "9860cee1",
      "metadata": {
        "id": "9860cee1",
        "outputId": "c33282dd-435d-4ccc-f813-f70c0640cf0c"
      },
      "outputs": [
        {
          "name": "stdout",
          "output_type": "stream",
          "text": [
            "Observations: 27\n",
            "Variables: 12\n",
            "$ Year_Of_Valuation      <dbl> 2012, 2013, 2013, 2013, 2013, 2013, NA, 2013...\n",
            "$ Property_Type          <chr> \"Land\", \"Office Complex\", \"Apartment Block\",...\n",
            "$ State                  <chr> \"Lagos\", \"Lagos\", \"Lagos\", \"Lagos\", \"Lagos\",...\n",
            "$ Location               <chr> \"Ikeja_1\", \"Victoria Island\", \"Ikoyi\", \"Okot...\n",
            "$ Location_Rating        <dbl> 8.0, 9.0, 10.0, 3.0, NA, 5.0, 3.0, 8.5, 5.0,...\n",
            "$ Land_Size_sqm          <dbl> 615.040, 4327.710, 5500.000, 1500.000, 183.2...\n",
            "$ Open_Market_Value      <dbl> 1.00e+08, 2.97e+09, 4.00e+09, 7.00e+07, 1.00...\n",
            "$ Forced_Sale_Value      <dbl> 4.600e+07, 2.079e+09, 2.800e+09, 4.900e+07, ...\n",
            "$ Insurance_Value        <dbl> 1.5e+06, 1.6e+09, 2.1e+09, 5.0e+07, 5.0e+06,...\n",
            "$ land_value             <dbl> 5.40e+07, 8.91e+08, 1.20e+09, 2.10e+07, 3.00...\n",
            "$ Land_Value_PerSQM      <dbl> 87799.168, 205882.557, 218181.818, 14000.000...\n",
            "$ land_values_in_dollars <dbl> 339053.29, 5594379.25, 7534517.51, 131854.06...\n"
          ]
        }
      ],
      "source": [
        "glimpse(df_with_more_cols)"
      ]
    },
    {
      "cell_type": "markdown",
      "id": "ea4c3dcb",
      "metadata": {
        "id": "ea4c3dcb"
      },
      "source": [
        "##### We now have 27 observations(rows) and 12 variables(columns)"
      ]
    },
    {
      "cell_type": "code",
      "execution_count": null,
      "id": "e6834ae5",
      "metadata": {
        "id": "e6834ae5"
      },
      "outputs": [],
      "source": [
        ""
      ]
    },
    {
      "cell_type": "markdown",
      "id": "fdbb258d",
      "metadata": {
        "id": "fdbb258d"
      },
      "source": [
        "### 2. using SELECT and FILTER functions to pick variables based on their names and certain conditions/values."
      ]
    },
    {
      "cell_type": "code",
      "execution_count": null,
      "id": "c401f24e",
      "metadata": {
        "id": "c401f24e"
      },
      "outputs": [],
      "source": [
        "df_lagos <- df_with_more_cols %>%\n",
        "  filter(State==\"Lagos\") %>%\n",
        "  select(Year_Of_Valuation, State, Property_Type, Open_Market_Value, land_value  )"
      ]
    },
    {
      "cell_type": "code",
      "execution_count": null,
      "id": "7086d904",
      "metadata": {
        "id": "7086d904",
        "outputId": "4f41a120-cf92-4f5f-aaa8-65c8fc9a67c2"
      },
      "outputs": [
        {
          "data": {
            "text/html": [
              "<table>\n",
              "<thead><tr><th scope=col>Year_Of_Valuation</th><th scope=col>State</th><th scope=col>Property_Type</th><th scope=col>Open_Market_Value</th><th scope=col>land_value</th></tr></thead>\n",
              "<tbody>\n",
              "\t<tr><td>2012           </td><td>Lagos          </td><td>Land           </td><td>1.00e+08       </td><td>5.40e+07       </td></tr>\n",
              "\t<tr><td>2013           </td><td>Lagos          </td><td>Office Complex </td><td>2.97e+09       </td><td>8.91e+08       </td></tr>\n",
              "\t<tr><td>2013           </td><td>Lagos          </td><td>Apartment Block</td><td>4.00e+09       </td><td>1.20e+09       </td></tr>\n",
              "\t<tr><td>2013           </td><td>Lagos          </td><td>Detached House </td><td>7.00e+07       </td><td>2.10e+07       </td></tr>\n",
              "\t<tr><td>2013           </td><td>Lagos          </td><td>Tenement House </td><td>1.00e+07       </td><td>3.00e+06       </td></tr>\n",
              "\t<tr><td>2013           </td><td>Lagos          </td><td>Flat           </td><td>1.40e+07       </td><td>4.00e+06       </td></tr>\n",
              "</tbody>\n",
              "</table>\n"
            ],
            "text/latex": [
              "\\begin{tabular}{r|lllll}\n",
              " Year\\_Of\\_Valuation & State & Property\\_Type & Open\\_Market\\_Value & land\\_value\\\\\n",
              "\\hline\n",
              "\t 2012            & Lagos           & Land            & 1.00e+08        & 5.40e+07       \\\\\n",
              "\t 2013            & Lagos           & Office Complex  & 2.97e+09        & 8.91e+08       \\\\\n",
              "\t 2013            & Lagos           & Apartment Block & 4.00e+09        & 1.20e+09       \\\\\n",
              "\t 2013            & Lagos           & Detached House  & 7.00e+07        & 2.10e+07       \\\\\n",
              "\t 2013            & Lagos           & Tenement House  & 1.00e+07        & 3.00e+06       \\\\\n",
              "\t 2013            & Lagos           & Flat            & 1.40e+07        & 4.00e+06       \\\\\n",
              "\\end{tabular}\n"
            ],
            "text/markdown": [
              "\n",
              "| Year_Of_Valuation | State | Property_Type | Open_Market_Value | land_value |\n",
              "|---|---|---|---|---|\n",
              "| 2012            | Lagos           | Land            | 1.00e+08        | 5.40e+07        |\n",
              "| 2013            | Lagos           | Office Complex  | 2.97e+09        | 8.91e+08        |\n",
              "| 2013            | Lagos           | Apartment Block | 4.00e+09        | 1.20e+09        |\n",
              "| 2013            | Lagos           | Detached House  | 7.00e+07        | 2.10e+07        |\n",
              "| 2013            | Lagos           | Tenement House  | 1.00e+07        | 3.00e+06        |\n",
              "| 2013            | Lagos           | Flat            | 1.40e+07        | 4.00e+06        |\n",
              "\n"
            ],
            "text/plain": [
              "  Year_Of_Valuation State Property_Type   Open_Market_Value land_value\n",
              "1 2012              Lagos Land            1.00e+08          5.40e+07  \n",
              "2 2013              Lagos Office Complex  2.97e+09          8.91e+08  \n",
              "3 2013              Lagos Apartment Block 4.00e+09          1.20e+09  \n",
              "4 2013              Lagos Detached House  7.00e+07          2.10e+07  \n",
              "5 2013              Lagos Tenement House  1.00e+07          3.00e+06  \n",
              "6 2013              Lagos Flat            1.40e+07          4.00e+06  "
            ]
          },
          "metadata": {},
          "output_type": "display_data"
        }
      ],
      "source": [
        "head(df_lagos)"
      ]
    },
    {
      "cell_type": "code",
      "execution_count": null,
      "id": "f33cb7f4",
      "metadata": {
        "id": "f33cb7f4"
      },
      "outputs": [],
      "source": [
        ""
      ]
    },
    {
      "cell_type": "markdown",
      "id": "e29c01c0",
      "metadata": {
        "id": "e29c01c0"
      },
      "source": [
        "### 3. using SUMMARIZE function to reduce multiple values down to a single summary."
      ]
    },
    {
      "cell_type": "code",
      "execution_count": null,
      "id": "1af6952d",
      "metadata": {
        "id": "1af6952d"
      },
      "outputs": [],
      "source": [
        "df_summarise <- df_with_more_cols %>% \n",
        "  group_by(State) %>% \n",
        "  summarize(avg_land_value = mean(land_value))\n"
      ]
    },
    {
      "cell_type": "code",
      "execution_count": null,
      "id": "88e578a4",
      "metadata": {
        "id": "88e578a4",
        "outputId": "35d7f1f5-c0ff-42d5-cd4a-713dc4f171bb"
      },
      "outputs": [
        {
          "data": {
            "text/html": [
              "<table>\n",
              "<thead><tr><th scope=col>State</th><th scope=col>avg_land_value</th></tr></thead>\n",
              "<tbody>\n",
              "\t<tr><td>Abia     </td><td> 10000000</td></tr>\n",
              "\t<tr><td>Lagos    </td><td>114740000</td></tr>\n",
              "\t<tr><td>Osun     </td><td> 99000000</td></tr>\n",
              "</tbody>\n",
              "</table>\n"
            ],
            "text/latex": [
              "\\begin{tabular}{r|ll}\n",
              " State & avg\\_land\\_value\\\\\n",
              "\\hline\n",
              "\t Abia      &  10000000\\\\\n",
              "\t Lagos     & 114740000\\\\\n",
              "\t Osun      &  99000000\\\\\n",
              "\\end{tabular}\n"
            ],
            "text/markdown": [
              "\n",
              "| State | avg_land_value |\n",
              "|---|---|\n",
              "| Abia      |  10000000 |\n",
              "| Lagos     | 114740000 |\n",
              "| Osun      |  99000000 |\n",
              "\n"
            ],
            "text/plain": [
              "  State avg_land_value\n",
              "1 Abia   10000000     \n",
              "2 Lagos 114740000     \n",
              "3 Osun   99000000     "
            ]
          },
          "metadata": {},
          "output_type": "display_data"
        }
      ],
      "source": [
        "df_summarise"
      ]
    },
    {
      "cell_type": "code",
      "execution_count": null,
      "id": "ac54e899",
      "metadata": {
        "id": "ac54e899"
      },
      "outputs": [],
      "source": [
        ""
      ]
    },
    {
      "cell_type": "markdown",
      "id": "4138f8dd",
      "metadata": {
        "id": "4138f8dd"
      },
      "source": [
        "### 4. Using ARRANGE function to change the ordering of the rows.\n",
        "By default, the arrange function is usually done in ascending order."
      ]
    },
    {
      "cell_type": "code",
      "execution_count": null,
      "id": "9991bf92",
      "metadata": {
        "id": "9991bf92"
      },
      "outputs": [],
      "source": [
        "df_arrange <- df_with_more_cols %>% \n",
        "  arrange(desc (Open_Market_Value))"
      ]
    },
    {
      "cell_type": "code",
      "execution_count": null,
      "id": "412e59cf",
      "metadata": {
        "id": "412e59cf",
        "outputId": "7aaa89df-47ad-4fd0-f319-012f965cf1ca"
      },
      "outputs": [
        {
          "data": {
            "text/html": [
              "<table>\n",
              "<thead><tr><th scope=col>Year_Of_Valuation</th><th scope=col>Property_Type</th><th scope=col>State</th><th scope=col>Location</th><th scope=col>Location_Rating</th><th scope=col>Land_Size_sqm</th><th scope=col>Open_Market_Value</th><th scope=col>Forced_Sale_Value</th><th scope=col>Insurance_Value</th><th scope=col>land_value</th><th scope=col>Land_Value_PerSQM</th><th scope=col>land_values_in_dollars</th></tr></thead>\n",
              "<tbody>\n",
              "\t<tr><td>2013           </td><td>Apartment Block</td><td>Lagos          </td><td>Ikoyi          </td><td>10.0           </td><td> 5500.000      </td><td>4.00e+09       </td><td>2.800e+09      </td><td>2.1e+09        </td><td>1.20e+09       </td><td>218181.818     </td><td>7534517.5      </td></tr>\n",
              "\t<tr><td>2013           </td><td>Office Complex </td><td>Lagos          </td><td>Victoria Island</td><td> 9.0           </td><td> 4327.710      </td><td>2.97e+09       </td><td>2.079e+09      </td><td>1.6e+09        </td><td>8.91e+08       </td><td>205882.557     </td><td>5594379.2      </td></tr>\n",
              "\t<tr><td>2013           </td><td>Land           </td><td>Lagos          </td><td>Agege          </td><td> 3.0           </td><td>99540.000      </td><td>6.40e+08       </td><td>4.480e+08      </td><td>0.0e+00        </td><td>1.92e+08       </td><td>  1928.873     </td><td>1205522.8      </td></tr>\n",
              "\t<tr><td>  NA           </td><td>Hostel         </td><td>Osun           </td><td>OAU, Ile-Ife   </td><td> 3.0           </td><td> 3787.665      </td><td>3.30e+08       </td><td>2.310e+08      </td><td>1.8e+08        </td><td>9.90e+07       </td><td> 26137.475     </td><td> 621597.7      </td></tr>\n",
              "\t<tr><td>2013           </td><td>Apartment Block</td><td>Lagos          </td><td>Lekki Phase 1  </td><td> 8.5           </td><td> 1351.610      </td><td>3.00e+08       </td><td>2.100e+08      </td><td>1.0e+08        </td><td>9.00e+07       </td><td> 66587.255     </td><td> 565088.8      </td></tr>\n",
              "\t<tr><td>2013           </td><td>Apartment Block</td><td>Lagos          </td><td>Ajah           </td><td> 5.0           </td><td> 1334.000      </td><td>2.30e+08       </td><td>1.610e+08      </td><td>1.5e+08        </td><td>6.90e+07       </td><td> 51724.138     </td><td> 433234.8      </td></tr>\n",
              "\t<tr><td>2013           </td><td>Hotel          </td><td>Lagos          </td><td>Ikeja_1        </td><td>  NA           </td><td>  481.000      </td><td>2.00e+08       </td><td>1.400e+08      </td><td>1.0e+08        </td><td>6.00e+07       </td><td>124740.125     </td><td> 376725.9      </td></tr>\n",
              "\t<tr><td>2013           </td><td>Detached House </td><td>Lagos          </td><td>Ajao Estate    </td><td> 4.0           </td><td>  657.579      </td><td>1.10e+08       </td><td>7.700e+07      </td><td>6.0e+07        </td><td>3.30e+07       </td><td> 50184.084     </td><td> 207199.2      </td></tr>\n",
              "\t<tr><td>2012           </td><td>Land           </td><td>Lagos          </td><td>Ikeja_1        </td><td> 8.0           </td><td>  615.040      </td><td>1.00e+08       </td><td>4.600e+07      </td><td>1.5e+06        </td><td>5.40e+07       </td><td> 87799.168     </td><td> 339053.3      </td></tr>\n",
              "\t<tr><td>2013           </td><td>Detached House </td><td>Lagos          </td><td>Surulere       </td><td> 5.0           </td><td>  683.000      </td><td>8.00e+07       </td><td>5.600e+07      </td><td>4.5e+07        </td><td>2.40e+07       </td><td> 35139.092     </td><td> 150690.4      </td></tr>\n",
              "</tbody>\n",
              "</table>\n"
            ],
            "text/latex": [
              "\\begin{tabular}{r|llllllllllll}\n",
              " Year\\_Of\\_Valuation & Property\\_Type & State & Location & Location\\_Rating & Land\\_Size\\_sqm & Open\\_Market\\_Value & Forced\\_Sale\\_Value & Insurance\\_Value & land\\_value & Land\\_Value\\_PerSQM & land\\_values\\_in\\_dollars\\\\\n",
              "\\hline\n",
              "\t 2013            & Apartment Block & Lagos           & Ikoyi           & 10.0            &  5500.000       & 4.00e+09        & 2.800e+09       & 2.1e+09         & 1.20e+09        & 218181.818      & 7534517.5      \\\\\n",
              "\t 2013            & Office Complex  & Lagos           & Victoria Island &  9.0            &  4327.710       & 2.97e+09        & 2.079e+09       & 1.6e+09         & 8.91e+08        & 205882.557      & 5594379.2      \\\\\n",
              "\t 2013            & Land            & Lagos           & Agege           &  3.0            & 99540.000       & 6.40e+08        & 4.480e+08       & 0.0e+00         & 1.92e+08        &   1928.873      & 1205522.8      \\\\\n",
              "\t   NA            & Hostel          & Osun            & OAU, Ile-Ife    &  3.0            &  3787.665       & 3.30e+08        & 2.310e+08       & 1.8e+08         & 9.90e+07        &  26137.475      &  621597.7      \\\\\n",
              "\t 2013            & Apartment Block & Lagos           & Lekki Phase 1   &  8.5            &  1351.610       & 3.00e+08        & 2.100e+08       & 1.0e+08         & 9.00e+07        &  66587.255      &  565088.8      \\\\\n",
              "\t 2013            & Apartment Block & Lagos           & Ajah            &  5.0            &  1334.000       & 2.30e+08        & 1.610e+08       & 1.5e+08         & 6.90e+07        &  51724.138      &  433234.8      \\\\\n",
              "\t 2013              & Hotel             & Lagos             & Ikeja\\_1         &   NA              &   481.000         & 2.00e+08          & 1.400e+08         & 1.0e+08           & 6.00e+07          & 124740.125        &  376725.9        \\\\\n",
              "\t 2013            & Detached House  & Lagos           & Ajao Estate     &  4.0            &   657.579       & 1.10e+08        & 7.700e+07       & 6.0e+07         & 3.30e+07        &  50184.084      &  207199.2      \\\\\n",
              "\t 2012              & Land              & Lagos             & Ikeja\\_1         &  8.0              &   615.040         & 1.00e+08          & 4.600e+07         & 1.5e+06           & 5.40e+07          &  87799.168        &  339053.3        \\\\\n",
              "\t 2013            & Detached House  & Lagos           & Surulere        &  5.0            &   683.000       & 8.00e+07        & 5.600e+07       & 4.5e+07         & 2.40e+07        &  35139.092      &  150690.4      \\\\\n",
              "\\end{tabular}\n"
            ],
            "text/markdown": [
              "\n",
              "| Year_Of_Valuation | Property_Type | State | Location | Location_Rating | Land_Size_sqm | Open_Market_Value | Forced_Sale_Value | Insurance_Value | land_value | Land_Value_PerSQM | land_values_in_dollars |\n",
              "|---|---|---|---|---|---|---|---|---|---|---|---|\n",
              "| 2013            | Apartment Block | Lagos           | Ikoyi           | 10.0            |  5500.000       | 4.00e+09        | 2.800e+09       | 2.1e+09         | 1.20e+09        | 218181.818      | 7534517.5       |\n",
              "| 2013            | Office Complex  | Lagos           | Victoria Island |  9.0            |  4327.710       | 2.97e+09        | 2.079e+09       | 1.6e+09         | 8.91e+08        | 205882.557      | 5594379.2       |\n",
              "| 2013            | Land            | Lagos           | Agege           |  3.0            | 99540.000       | 6.40e+08        | 4.480e+08       | 0.0e+00         | 1.92e+08        |   1928.873      | 1205522.8       |\n",
              "|   NA            | Hostel          | Osun            | OAU, Ile-Ife    |  3.0            |  3787.665       | 3.30e+08        | 2.310e+08       | 1.8e+08         | 9.90e+07        |  26137.475      |  621597.7       |\n",
              "| 2013            | Apartment Block | Lagos           | Lekki Phase 1   |  8.5            |  1351.610       | 3.00e+08        | 2.100e+08       | 1.0e+08         | 9.00e+07        |  66587.255      |  565088.8       |\n",
              "| 2013            | Apartment Block | Lagos           | Ajah            |  5.0            |  1334.000       | 2.30e+08        | 1.610e+08       | 1.5e+08         | 6.90e+07        |  51724.138      |  433234.8       |\n",
              "| 2013            | Hotel           | Lagos           | Ikeja_1         |   NA            |   481.000       | 2.00e+08        | 1.400e+08       | 1.0e+08         | 6.00e+07        | 124740.125      |  376725.9       |\n",
              "| 2013            | Detached House  | Lagos           | Ajao Estate     |  4.0            |   657.579       | 1.10e+08        | 7.700e+07       | 6.0e+07         | 3.30e+07        |  50184.084      |  207199.2       |\n",
              "| 2012            | Land            | Lagos           | Ikeja_1         |  8.0            |   615.040       | 1.00e+08        | 4.600e+07       | 1.5e+06         | 5.40e+07        |  87799.168      |  339053.3       |\n",
              "| 2013            | Detached House  | Lagos           | Surulere        |  5.0            |   683.000       | 8.00e+07        | 5.600e+07       | 4.5e+07         | 2.40e+07        |  35139.092      |  150690.4       |\n",
              "\n"
            ],
            "text/plain": [
              "   Year_Of_Valuation Property_Type   State Location        Location_Rating\n",
              "1  2013              Apartment Block Lagos Ikoyi           10.0           \n",
              "2  2013              Office Complex  Lagos Victoria Island  9.0           \n",
              "3  2013              Land            Lagos Agege            3.0           \n",
              "4    NA              Hostel          Osun  OAU, Ile-Ife     3.0           \n",
              "5  2013              Apartment Block Lagos Lekki Phase 1    8.5           \n",
              "6  2013              Apartment Block Lagos Ajah             5.0           \n",
              "7  2013              Hotel           Lagos Ikeja_1           NA           \n",
              "8  2013              Detached House  Lagos Ajao Estate      4.0           \n",
              "9  2012              Land            Lagos Ikeja_1          8.0           \n",
              "10 2013              Detached House  Lagos Surulere         5.0           \n",
              "   Land_Size_sqm Open_Market_Value Forced_Sale_Value Insurance_Value land_value\n",
              "1   5500.000     4.00e+09          2.800e+09         2.1e+09         1.20e+09  \n",
              "2   4327.710     2.97e+09          2.079e+09         1.6e+09         8.91e+08  \n",
              "3  99540.000     6.40e+08          4.480e+08         0.0e+00         1.92e+08  \n",
              "4   3787.665     3.30e+08          2.310e+08         1.8e+08         9.90e+07  \n",
              "5   1351.610     3.00e+08          2.100e+08         1.0e+08         9.00e+07  \n",
              "6   1334.000     2.30e+08          1.610e+08         1.5e+08         6.90e+07  \n",
              "7    481.000     2.00e+08          1.400e+08         1.0e+08         6.00e+07  \n",
              "8    657.579     1.10e+08          7.700e+07         6.0e+07         3.30e+07  \n",
              "9    615.040     1.00e+08          4.600e+07         1.5e+06         5.40e+07  \n",
              "10   683.000     8.00e+07          5.600e+07         4.5e+07         2.40e+07  \n",
              "   Land_Value_PerSQM land_values_in_dollars\n",
              "1  218181.818        7534517.5             \n",
              "2  205882.557        5594379.2             \n",
              "3    1928.873        1205522.8             \n",
              "4   26137.475         621597.7             \n",
              "5   66587.255         565088.8             \n",
              "6   51724.138         433234.8             \n",
              "7  124740.125         376725.9             \n",
              "8   50184.084         207199.2             \n",
              "9   87799.168         339053.3             \n",
              "10  35139.092         150690.4             "
            ]
          },
          "metadata": {},
          "output_type": "display_data"
        }
      ],
      "source": [
        "head(df_arrange, 10)\n",
        "# this will help us determine the top ten most expensive properties in the list."
      ]
    },
    {
      "cell_type": "code",
      "execution_count": null,
      "id": "d03052ac",
      "metadata": {
        "id": "d03052ac"
      },
      "outputs": [],
      "source": [
        ""
      ]
    }
  ],
  "metadata": {
    "kernelspec": {
      "display_name": "Python 3",
      "language": "python",
      "name": "python3"
    },
    "language_info": {
      "codemirror_mode": {
        "name": "ipython",
        "version": 3
      },
      "file_extension": ".py",
      "mimetype": "text/x-python",
      "name": "python",
      "nbconvert_exporter": "python",
      "pygments_lexer": "ipython3",
      "version": "3.9.0"
    },
    "colab": {
      "name": "Data Manipulation with dplyr (R Language).ipynb",
      "provenance": [],
      "include_colab_link": true
    }
  },
  "nbformat": 4,
  "nbformat_minor": 5
}